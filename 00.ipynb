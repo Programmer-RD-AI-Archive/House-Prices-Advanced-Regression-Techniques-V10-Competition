{
 "cells": [
  {
   "cell_type": "code",
   "execution_count": null,
   "id": "f1e871e1-1651-495d-b37c-b749ce135479",
   "metadata": {},
   "outputs": [],
   "source": [
    "import random\n",
    "import seaborn as sns\n",
    "import pandas as pd\n",
    "import numpy as np\n",
    "import matplotlib.pyplot as plt\n",
    "import sklearn\n",
    "import torch,torchvision\n",
    "from torch.nn import *\n",
    "from tqdm import tqdm\n",
    "from torch.optim import *\n",
    "# Preproccessing\n",
    "from sklearn.preprocessing import (\n",
    "    StandardScaler,\n",
    "    RobustScaler,\n",
    "    MinMaxScaler,\n",
    "    MaxAbsScaler,\n",
    "    OneHotEncoder,\n",
    "    Normalizer,\n",
    "    Binarizer\n",
    ")\n",
    "# Decomposition\n",
    "from sklearn.decomposition import PCA\n",
    "from sklearn.decomposition import KernelPCA\n",
    "# Feature Selection\n",
    "from sklearn.feature_selection import VarianceThreshold\n",
    "from sklearn.feature_selection import SelectKBest\n",
    "from sklearn.feature_selection import RFECV\n",
    "from sklearn.feature_selection import SelectFromModel\n",
    "# Model Eval\n",
    "from sklearn.compose import make_column_transformer\n",
    "from sklearn.model_selection import GridSearchCV\n",
    "from sklearn.model_selection import cross_val_score,train_test_split\n",
    "from sklearn.metrics import mean_absolute_error,mean_squared_error\n",
    "# Other\n",
    "import pickle\n",
    "import wandb\n",
    "\n",
    "PROJECT_NAME = 'House-Prices-Advanced-Regression-Techniques-V10'\n",
    "device = 'cuda:0'\n",
    "np.random.seed(21)\n",
    "random.seed(21)\n",
    "torch.manual_seed(21)"
   ]
  },
  {
   "cell_type": "code",
   "execution_count": null,
   "id": "d690762a-8193-4ba9-b08a-dac8e9b7c7bb",
   "metadata": {},
   "outputs": [],
   "source": [
    "# data = pd.read_csv('./data/train.csv')\n",
    "# data = data.sample(frac=1)"
   ]
  },
  {
   "cell_type": "code",
   "execution_count": null,
   "id": "f47dfd94-5e53-496c-8c7e-4ad44732d776",
   "metadata": {},
   "outputs": [],
   "source": [
    "def object_to_int(data,col):\n",
    "    data_col = data[col].to_dict()\n",
    "    idx = -1\n",
    "    labels_and_int_index = {}\n",
    "    for data_col_vals in data_col.values():\n",
    "        if data_col_vals not in labels_and_int_index.keys():\n",
    "            idx += 1\n",
    "            labels_and_int_index[data_col_vals] = idx\n",
    "    new_data = []\n",
    "    for data_col_vals in data_col.values():\n",
    "        new_data.append(labels_and_int_index[data_col_vals])\n",
    "    data[col] = new_data\n",
    "    return data,idx,labels_and_int_index,new_data"
   ]
  },
  {
   "cell_type": "code",
   "execution_count": null,
   "id": "d52797b3-7508-41b5-a53f-ddb5607197fe",
   "metadata": {},
   "outputs": [],
   "source": [
    "# str_cols = []\n",
    "# int_cols = []\n",
    "# for col_name,num_of_missing_rows,dtype in zip(list(data.columns),data.isna().sum(),data.dtypes):\n",
    "#     if dtype == object:\n",
    "#         str_cols.append(col_name)\n",
    "#     else:\n",
    "#         int_cols.append(col_name)\n",
    "# for str_col in str_cols:\n",
    "#     data,idx,labels_and_int_index,new_data = object_to_int(data,str_col)\n",
    "# nan_cols = []\n",
    "# for col_name,num_of_missing_rows,dtype in zip(list(data.columns),data.isna().sum(),data.dtypes):\n",
    "#     if num_of_missing_rows > 0:\n",
    "#         nan_cols.append(col_name)\n",
    "# for nan_col in nan_cols:\n",
    "#     data[nan_col].fillna(data[nan_col].median(),inplace=True)"
   ]
  },
  {
   "cell_type": "code",
   "execution_count": null,
   "id": "d0679b18-58dc-4edd-aa13-6e5ead48bf57",
   "metadata": {},
   "outputs": [],
   "source": [
    "# data.to_csv('./data/cleaned-data.csv',index=False)"
   ]
  },
  {
   "cell_type": "code",
   "execution_count": null,
   "id": "74f3b767-63eb-4e48-be22-cc4703924538",
   "metadata": {},
   "outputs": [],
   "source": [
    "data = pd.read_csv('./data/cleaned-data.csv')"
   ]
  },
  {
   "cell_type": "code",
   "execution_count": null,
   "id": "fa2fd103-5f35-4690-b0f4-0f7810a38c6c",
   "metadata": {},
   "outputs": [],
   "source": [
    "def valid(model,X,y,valid=False):\n",
    "    preds = model(X)\n",
    "    preds = preds.cpu().detach().numpy()\n",
    "    y = y.cpu().detach().numpy()\n",
    "    if valid:\n",
    "        results = {\n",
    "            'val mean_absolute_error':mean_absolute_error(y_true=y,y_pred=preds),\n",
    "            'val mean_squared_error':mean_squared_error(y_true=y,y_pred=preds),\n",
    "        }\n",
    "    else:\n",
    "        results = {\n",
    "            'mean_absolute_error':mean_absolute_error(y_true=y,y_pred=preds),\n",
    "            'mean_squared_error':mean_squared_error(y_true=y,y_pred=preds),\n",
    "        }\n",
    "    return results"
   ]
  },
  {
   "cell_type": "code",
   "execution_count": null,
   "id": "a90199c8-869d-48bf-a1b0-f641ce044120",
   "metadata": {},
   "outputs": [],
   "source": [
    "def make_submission(model,name):\n",
    "    data = pd.read_csv('./data/test.csv')\n",
    "    ids = data['Id']\n",
    "    str_cols = []\n",
    "    int_cols = []\n",
    "    for col_name,num_of_missing_rows,dtype in zip(list(data.columns),data.isna().sum(),data.dtypes):\n",
    "        if dtype == object:\n",
    "            str_cols.append(col_name)\n",
    "        else:\n",
    "            int_cols.append(col_name)\n",
    "    for str_col in str_cols:\n",
    "        data,idx,labels_and_int_index,new_data = object_to_int(data,str_col)\n",
    "    nan_cols = []\n",
    "    for col_name,num_of_missing_rows,dtype in zip(list(data.columns),data.isna().sum(),data.dtypes):\n",
    "        if num_of_missing_rows > 0:\n",
    "            nan_cols.append(col_name)\n",
    "    for nan_col in nan_cols:\n",
    "        data[nan_col].fillna(data[nan_col].median(),inplace=True)\n",
    "    preds = model(data)\n",
    "    df = pd.DataFrame({'Id':ids,'SalePrice':preds.view(-1).cpu().detach().numpy()})\n",
    "    df.to_csv(f'./submissions/{name}.csv',index=False)"
   ]
  },
  {
   "cell_type": "code",
   "execution_count": null,
   "id": "a9b3d464-1674-41ab-a775-4ffe9bef4308",
   "metadata": {},
   "outputs": [],
   "source": [
    "def train(model,X_train,X_test,y_train,y_test,name,epochs,batch_size,criterion,optimizer):\n",
    "    wandb.init(project=PROJECT_NAME,name=name)\n",
    "    for _ in tqdm(range(epochs)):\n",
    "        for idx in range(0,len(X_train),batch_size):\n",
    "            X_batch = X_train[idx:idx+batch_size].float().to(device)\n",
    "            y_batch = y_train[idx:idx+batch_size].float().to(device)\n",
    "            model.to(device)\n",
    "            preds = model(X_batch)\n",
    "            preds.to(device)\n",
    "            loss = criterion(preds.view(-1),y_batch.view(-1))\n",
    "            optimizer.zero_grad()\n",
    "            loss.backward()\n",
    "            optimizer.step()\n",
    "        wandb.log({'Loss':loss.item()})\n",
    "        model.to(device)\n",
    "        preds = model(X_test)\n",
    "        preds.to(device)\n",
    "        loss = criterion(preds.view(-1),y_test.view(-1))\n",
    "        wandb.log({'Val Loss':loss.item()})\n",
    "        wandb.log(valid(model,X_train,y_train))\n",
    "        wandb.log(valid(model,X_test,y_test,True))\n",
    "    make_submission(model,name)\n",
    "    return model"
   ]
  },
  {
   "cell_type": "code",
   "execution_count": null,
   "id": "b5486fff-26aa-4878-9b06-1308ba20f892",
   "metadata": {},
   "outputs": [],
   "source": [
    "X = data.drop('SalePrice',axis=1)\n",
    "y = data['SalePrice']"
   ]
  },
  {
   "cell_type": "code",
   "execution_count": null,
   "id": "88f86691-639c-457c-941f-79eadfbfd70e",
   "metadata": {},
   "outputs": [],
   "source": [
    "X_train,X_test,y_train,y_test = train_test_split(X,y,test_size=0.0625)"
   ]
  },
  {
   "cell_type": "code",
   "execution_count": null,
   "id": "3b258354-c526-4d09-bba1-500c0af7ac90",
   "metadata": {},
   "outputs": [],
   "source": [
    "X_train = torch.from_numpy(np.array(X_train)).float()"
   ]
  },
  {
   "cell_type": "code",
   "execution_count": null,
   "id": "3f66d70d-18ee-48c3-8f15-248aa4181935",
   "metadata": {},
   "outputs": [],
   "source": [
    "X_test = torch.from_numpy(np.array(X_test)).float()"
   ]
  },
  {
   "cell_type": "code",
   "execution_count": null,
   "id": "8f2909ed-8af7-4e41-a128-cbeddd21a07b",
   "metadata": {},
   "outputs": [],
   "source": [
    "y_train = torch.from_numpy(np.array(y_train)).float()"
   ]
  },
  {
   "cell_type": "code",
   "execution_count": null,
   "id": "eae4f160-caaf-4c2c-a946-35fc058f141c",
   "metadata": {},
   "outputs": [],
   "source": [
    "y_test = torch.from_numpy(np.array(y_test)).float().to(device)"
   ]
  },
  {
   "cell_type": "code",
   "execution_count": null,
   "id": "3ec4fcc3-bd60-4ab5-b402-85922a0ca47f",
   "metadata": {},
   "outputs": [],
   "source": [
    "X_train.shape"
   ]
  },
  {
   "cell_type": "code",
   "execution_count": null,
   "id": "3cd9057b-c11b-47ef-a4bd-88e89a6f5e33",
   "metadata": {},
   "outputs": [],
   "source": [
    "class Model(Module):\n",
    "    def __init__(self,hidden,activation):\n",
    "        super().__init__()\n",
    "        self.activation = activation\n",
    "        self.linear1 = Linear(80,hidden).to(device)\n",
    "        self.linear1batchnorm = BatchNorm1d(hidden).to(device)\n",
    "        self.linear2 = Linear(hidden,hidden*2).to(device)\n",
    "        self.linear2batchnorm = BatchNorm1d(hidden*2).to(device)\n",
    "        self.linear3 = Linear(hidden*2,hidden*3).to(device)\n",
    "        self.linear3batchnorm = BatchNorm1d(hidden*3).to(device)\n",
    "        self.linear4 = Linear(hidden*3,hidden*4).to(device)\n",
    "        self.linear4batchnorm = BatchNorm1d(hidden*4).to(device)\n",
    "        self.linear5 = Linear(hidden*4,hidden*8).to(device)\n",
    "        self.linear5batchnorm = BatchNorm1d(hidden*8).to(device)\n",
    "        self.linear6 = Linear(hidden*8,hidden*16).to(device)\n",
    "        self.linear6batchnorm = BatchNorm1d(hidden*16).to(device)\n",
    "        self.linear7 = Linear(hidden*16,hidden*32).to(device)\n",
    "        self.linear7batchnorm = BatchNorm1d(hidden*32).to(device)\n",
    "        self.linear8 = Linear(hidden*32,hidden*64).to(device)\n",
    "        self.linear8batchnorm = BatchNorm1d(hidden*64).to(device)\n",
    "        self.linear9 = Linear(hidden*64,hidden*32).to(device)\n",
    "        self.linear9batchnorm = BatchNorm1d(hidden*32).to(device)\n",
    "        self.output = Linear(hidden*32,1).to(device)\n",
    "    \n",
    "    def forward(self,X):\n",
    "        try:\n",
    "            preds = torch.from_numpy(np.array(X.cpu())).float().to(device)\n",
    "        except:\n",
    "            preds = torch.from_numpy(np.array(X)).float().to(device)\n",
    "        preds = self.activation(self.linear1batchnorm(self.linear1(preds)))\n",
    "        preds = self.activation(self.linear2batchnorm(self.linear2(preds)))\n",
    "        preds = self.activation(self.linear3batchnorm(self.linear3(preds)))\n",
    "        preds = self.activation(self.linear4batchnorm(self.linear4(preds)))\n",
    "        preds = self.activation(self.linear5batchnorm(self.linear5(preds)))\n",
    "        preds = self.activation(self.linear6batchnorm(self.linear6(preds)))\n",
    "        preds = self.activation(self.linear7batchnorm(self.linear7(preds)))\n",
    "        preds = self.activation(self.linear8batchnorm(self.linear8(preds)))\n",
    "        preds = self.activation(self.linear9batchnorm(self.linear9(preds)))\n",
    "        preds = self.output(preds)\n",
    "        return preds"
   ]
  },
  {
   "cell_type": "code",
   "execution_count": null,
   "id": "208d6a75-ef36-458b-9405-c35aa7fe80a2",
   "metadata": {},
   "outputs": [],
   "source": [
    "model = Model(128,ReLU())\n",
    "optimizer = Adam(model.parameters(),lr=0.001)\n",
    "criterion = MSELoss()\n",
    "epochs = 100\n",
    "batch_size = 32"
   ]
  },
  {
   "cell_type": "code",
   "execution_count": null,
   "id": "1fa49239-9ebd-43f4-9934-c8c3f0edde34",
   "metadata": {},
   "outputs": [],
   "source": [
    "train(model,X_train,X_test,y_train,y_test,name='baseline',epochs=epochs,batch_size=batch_size,criterion=criterion,optimizer=optimizer)"
   ]
  },
  {
   "cell_type": "code",
   "execution_count": null,
   "id": "cc06aa76-ac24-45b7-a0f7-6efa0440b85c",
   "metadata": {},
   "outputs": [],
   "source": [
    "hiddens = [8,16,32,64,128,256,512,1024,2048]\n",
    "activations = [ELU,LeakyReLU,PReLU,ReLU,ReLU6,RReLU,SELU,CELU,GELU,SiLU,Tanh]\n",
    "criterions = [MSELoss(),L1Loss()]\n",
    "batch_sizes = [8,16,32,64,128,256,512]\n",
    "optimizers = [Adam,AdamW,Adamax,RMSprop,Rprop]\n",
    "lrs = [0.1,0.01,0.001,0.0001,0.00001]"
   ]
  },
  {
   "cell_type": "code",
   "execution_count": null,
   "id": "cdebab0c-e963-4428-b23a-79253a10e7df",
   "metadata": {},
   "outputs": [],
   "source": [
    "for hidden in hiddens:\n",
    "    model = Model(hidden,ReLU())\n",
    "    optimizer = Adam(model.parameters(),lr=0.001)\n",
    "    criterion = MSELoss()\n",
    "    epochs = 100\n",
    "    batch_size = 32\n",
    "    train(model,X_train,X_test,y_train,y_test,name=f'hidden-{hidden}',epochs=epochs,batch_size=batch_size,criterion=criterion,optimizer=optimizer)"
   ]
  },
  {
   "cell_type": "code",
   "execution_count": null,
   "id": "5b1fd676-7148-40b7-95e3-1d8bc7cf997f",
   "metadata": {},
   "outputs": [],
   "source": [
    "# for activation in activations:\n",
    "#     model = Model(,activation())\n",
    "#     optimizer = Adam(model.parameters(),lr=0.001)\n",
    "#     criterion = MSELoss()\n",
    "#     epochs = 100\n",
    "#     batch_size = 32\n",
    "#     train(model,X_train,X_test,y_train,y_test,name=f'activation-{activation}',epochs=epochs,batch_size=batch_size,criterion=criterion,optimizer=optimizer)"
   ]
  },
  {
   "cell_type": "code",
   "execution_count": null,
   "id": "96b69f56-f9d2-4273-8ade-d095a03db3d5",
   "metadata": {},
   "outputs": [],
   "source": [
    "# for criterion in criterions:\n",
    "#     model = Model(,())\n",
    "#     optimizer = Adam(model.parameters(),lr=0.001)\n",
    "#     criterion = criterion()\n",
    "#     epochs = 100\n",
    "#     batch_size = 32\n",
    "#     train(model,X_train,X_test,y_train,y_test,name=f'criterion-{criterion}',epochs=epochs,batch_size=batch_size,criterion=criterion,optimizer=optimizer)"
   ]
  },
  {
   "cell_type": "code",
   "execution_count": null,
   "id": "a30e20e4-45cc-4604-9423-77ea9ab100a5",
   "metadata": {},
   "outputs": [],
   "source": [
    "# for batch_size in batch_sizes:\n",
    "#     model = Model(,())\n",
    "#     optimizer = Adam(model.parameters(),lr=0.001)\n",
    "#     criterion = ()\n",
    "#     epochs = 100\n",
    "#     batch_size = batch_size\n",
    "#     train(model,X_train,X_test,y_train,y_test,name=f'batch_size-{batch_size}',epochs=epochs,batch_size=batch_size,criterion=criterion,optimizer=optimizer)"
   ]
  },
  {
   "cell_type": "code",
   "execution_count": null,
   "id": "4248c32c-08b2-4f48-abcf-d6a1df112b54",
   "metadata": {},
   "outputs": [],
   "source": [
    "# for optimizer in optimizers:\n",
    "#     model = Model(,())\n",
    "#     optimizer = optimizer(model.parameters(),lr=0.001)\n",
    "#     criterion = ()\n",
    "#     epochs = 100\n",
    "#     batch_size = batch_size\n",
    "#     train(model,X_train,X_test,y_train,y_test,name=f'optimizer-{optimizer}',epochs=epochs,batch_size=batch_size,criterion=criterion,optimizer=optimizer)"
   ]
  },
  {
   "cell_type": "code",
   "execution_count": null,
   "id": "a53395a0-034f-4316-8edd-5ae71b5033e0",
   "metadata": {},
   "outputs": [],
   "source": [
    "# for lr in lrs:\n",
    "#     model = Model(,())\n",
    "#     optimizer = (model.parameters(),lr=lr)\n",
    "#     criterion = ()\n",
    "#     epochs = 100\n",
    "#     batch_size = batch_size\n",
    "#     train(model,X_train,X_test,y_train,y_test,name=f'lr-{lr}',epochs=epochs,batch_size=batch_size,criterion=criterion,optimizer=optimizer)"
   ]
  },
  {
   "cell_type": "code",
   "execution_count": null,
   "id": "2a062a78-e96e-4307-8175-4f3c5399de27",
   "metadata": {},
   "outputs": [],
   "source": []
  }
 ],
 "metadata": {
  "kernelspec": {
   "display_name": "Python 3.7.3 64-bit ('base': conda)",
   "language": "python",
   "name": "python373jvsc74a57bd0210f9608a45c0278a93c9e0b10db32a427986ab48cfc0d20c139811eb78c4bbc"
  },
  "language_info": {
   "codemirror_mode": {
    "name": "ipython",
    "version": 3
   },
   "file_extension": ".py",
   "mimetype": "text/x-python",
   "name": "python",
   "nbconvert_exporter": "python",
   "pygments_lexer": "ipython3",
   "version": "3.7.7"
  }
 },
 "nbformat": 4,
 "nbformat_minor": 5
}
